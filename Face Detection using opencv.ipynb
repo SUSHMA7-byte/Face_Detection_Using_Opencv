{
 "cells": [
  {
   "cell_type": "code",
   "execution_count": 2,
   "id": "3f6d1a97",
   "metadata": {},
   "outputs": [],
   "source": [
    "import cv2, sys, numpy, os \n",
    "haar_file = r'C:\\Users\\welcome\\Desktop\\Person Identification\\haarcascade_frontalface_default.xml'\n",
    "  \n",
    "# All the faces data will be \n",
    "#  present this folder \n",
    "datasets = r'C:\\Users\\welcome\\Desktop\\datasets'  \n",
    "  \n",
    "  \n",
    "# These are sub data sets of folder,  \n",
    "# for my faces I've used my name you can  \n",
    "# change the label here \n",
    "sub_data = 'Human'     \n",
    "  \n",
    "path = os.path.join(datasets, sub_data) \n",
    "if not os.path.isdir(path): \n",
    "    os.mkdir(path) \n",
    "  \n",
    "# defining the size of images  \n",
    "(width, height) = (130, 100)     \n",
    "  \n",
    "#'0' is used for my webcam,  \n",
    "# if you've any other camera \n",
    "#  attached use '1' like this \n",
    "face_cascade = cv2.CascadeClassifier(haar_file) \n",
    "webcam = cv2.VideoCapture(0)  \n",
    "  \n",
    "# The program loops until it has 30 images of the face. \n",
    "count = 1\n",
    "while count < 30:  \n",
    "    (_, im) = webcam.read() \n",
    "    gray = cv2.cvtColor(im, cv2.COLOR_BGR2GRAY) \n",
    "    faces = face_cascade.detectMultiScale(gray, 1.3, 4) \n",
    "    for (x, y, w, h) in faces: \n",
    "        cv2.rectangle(im, (x, y), (x + w, y + h), (255, 0, 0), 2) \n",
    "        face = gray[y:y + h, x:x + w] \n",
    "        face_resize = cv2.resize(face, (width, height)) \n",
    "        cv2.imwrite('% s/% s.png' % (path, count), face_resize) \n",
    "        count += 1\n",
    "      \n",
    "    cv2.imshow('OpenCV', im) \n",
    "    key = cv2.waitKey(10) \n",
    "    if key == 27: \n",
    "        break\n",
    "        \n",
    "webcam.release()\n",
    "cv2.destroyAllWindows()"
   ]
  },
  {
   "cell_type": "code",
   "execution_count": null,
   "id": "1e2fb0e1",
   "metadata": {},
   "outputs": [],
   "source": []
  }
 ],
 "metadata": {
  "kernelspec": {
   "display_name": "Python 3 (ipykernel)",
   "language": "python",
   "name": "python3"
  },
  "language_info": {
   "codemirror_mode": {
    "name": "ipython",
    "version": 3
   },
   "file_extension": ".py",
   "mimetype": "text/x-python",
   "name": "python",
   "nbconvert_exporter": "python",
   "pygments_lexer": "ipython3",
   "version": "3.10.9"
  }
 },
 "nbformat": 4,
 "nbformat_minor": 5
}
